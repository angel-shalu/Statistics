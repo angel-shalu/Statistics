{
 "cells": [
  {
   "cell_type": "markdown",
   "id": "747c6042-1ff8-4e2e-9b1d-fd5fc2833336",
   "metadata": {},
   "source": [
    "**Descriptive & Inferential Statistics on Sales Dataset**\n",
    "\n",
    "Today, we are working on a project that demonstrates both descriptive and inferential statistics using a simulated sales dataset. The aim is to explore how statistical methods can be applied to understand real-world business data and make informed decisions.\n",
    "\n",
    "We'll start by generating synthetic data representing product sales across categories like Electronics, Clothing, Home, and Sports. Using descriptive statistics, we'll analyze central tendency, dispersion, and group-level summaries. Next, we'll apply inferential techniques such as confidence intervals and hypothesis testing to make predictions and validate assumptions about the population from which our sample is drawn.\n",
    "\n",
    "Finally, we'll visualize our findings through histograms, boxplots, and bar charts to communicate insights clearly and effectively."
   ]
  },
  {
   "cell_type": "markdown",
   "id": "b498b6c2-96ff-42cb-bc95-f541d670bcf5",
   "metadata": {},
   "source": [
    "# Import Required Libraries\n",
    "\n",
    "- pandas for data handling\n",
    "\n",
    "- numpy for numeric operations\n",
    "\n",
    "- matplotlib & seaborn for data visualization\n",
    "\n",
    "- scipy.stats for inferential statistics like confidence intervals and hypothesis testing\n",
    "\n"
   ]
  },
  {
   "cell_type": "code",
   "execution_count": 4,
   "id": "521e4177-5f09-4fda-9c87-ddb144e245d3",
   "metadata": {},
   "outputs": [],
   "source": [
    "import pandas as pd\n",
    "import numpy as np\n",
    "import matplotlib.pyplot as plt\n",
    "import seaborn as sns\n",
    "import scipy.stats as stats"
   ]
  },
  {
   "cell_type": "markdown",
   "id": "3982365c-15a5-4750-a4a6-44b04145f4ea",
   "metadata": {},
   "source": [
    "# Create a Synthetic Dataset\n",
    "We simulate real-world product sales using the Poisson distribution (often used for count-based data like number of sales). Each product has a category, date of sale, and units sold."
   ]
  },
  {
   "cell_type": "code",
   "execution_count": 5,
   "id": "566bac9d-31f8-483b-bd6a-d8695ad08342",
   "metadata": {},
   "outputs": [],
   "source": [
    "# Set the random seed for reproducibility\n",
    "np.random.seed(42)     # random number would be generated"
   ]
  },
  {
   "cell_type": "code",
   "execution_count": 6,
   "id": "4c28d5c6-ca37-4010-bd83-8644d0f8afa7",
   "metadata": {},
   "outputs": [],
   "source": [
    "# Create a synthetic dataset\n",
    "data = {\n",
    "    'product_id': range(1, 21),\n",
    "    'product_name': [f'Product {i}' for i in range(1, 21)],\n",
    "    'category': np.random.choice(['Electronics', 'Clothing', 'Home', 'Sports'], 20),\n",
    "    'units_sold': np.random.poisson(lam=20, size=20),  # Poisson distribution\n",
    "    'sale_date': pd.date_range(start='2023-01-01', periods=20, freq='D')\n",
    "}\n",
    "\n",
    "sales_data = pd.DataFrame(data)"
   ]
  },
  {
   "cell_type": "code",
   "execution_count": null,
   "id": "85203805-059c-428a-9ea0-75f218cc09cd",
   "metadata": {},
   "outputs": [],
   "source": [
    "# Save the dataset as a CSV (optional)\n",
    "sales_data.to_csv('sales_data.csv', index=False)"
   ]
  },
  {
   "cell_type": "code",
   "execution_count": 10,
   "id": "2591729a",
   "metadata": {},
   "outputs": [
    {
     "data": {
      "text/html": [
       "<div>\n",
       "<style scoped>\n",
       "    .dataframe tbody tr th:only-of-type {\n",
       "        vertical-align: middle;\n",
       "    }\n",
       "\n",
       "    .dataframe tbody tr th {\n",
       "        vertical-align: top;\n",
       "    }\n",
       "\n",
       "    .dataframe thead th {\n",
       "        text-align: right;\n",
       "    }\n",
       "</style>\n",
       "<table border=\"1\" class=\"dataframe\">\n",
       "  <thead>\n",
       "    <tr style=\"text-align: right;\">\n",
       "      <th></th>\n",
       "      <th>product_id</th>\n",
       "      <th>product_name</th>\n",
       "      <th>category</th>\n",
       "      <th>units_sold</th>\n",
       "      <th>sale_date</th>\n",
       "    </tr>\n",
       "  </thead>\n",
       "  <tbody>\n",
       "    <tr>\n",
       "      <th>0</th>\n",
       "      <td>1</td>\n",
       "      <td>Product 1</td>\n",
       "      <td>Home</td>\n",
       "      <td>25</td>\n",
       "      <td>2023-01-01</td>\n",
       "    </tr>\n",
       "    <tr>\n",
       "      <th>1</th>\n",
       "      <td>2</td>\n",
       "      <td>Product 2</td>\n",
       "      <td>Sports</td>\n",
       "      <td>15</td>\n",
       "      <td>2023-01-02</td>\n",
       "    </tr>\n",
       "    <tr>\n",
       "      <th>2</th>\n",
       "      <td>3</td>\n",
       "      <td>Product 3</td>\n",
       "      <td>Electronics</td>\n",
       "      <td>17</td>\n",
       "      <td>2023-01-03</td>\n",
       "    </tr>\n",
       "    <tr>\n",
       "      <th>3</th>\n",
       "      <td>4</td>\n",
       "      <td>Product 4</td>\n",
       "      <td>Home</td>\n",
       "      <td>19</td>\n",
       "      <td>2023-01-04</td>\n",
       "    </tr>\n",
       "    <tr>\n",
       "      <th>4</th>\n",
       "      <td>5</td>\n",
       "      <td>Product 5</td>\n",
       "      <td>Home</td>\n",
       "      <td>21</td>\n",
       "      <td>2023-01-05</td>\n",
       "    </tr>\n",
       "  </tbody>\n",
       "</table>\n",
       "</div>"
      ],
      "text/plain": [
       "   product_id product_name     category  units_sold  sale_date\n",
       "0           1    Product 1         Home          25 2023-01-01\n",
       "1           2    Product 2       Sports          15 2023-01-02\n",
       "2           3    Product 3  Electronics          17 2023-01-03\n",
       "3           4    Product 4         Home          19 2023-01-04\n",
       "4           5    Product 5         Home          21 2023-01-05"
      ]
     },
     "execution_count": 10,
     "metadata": {},
     "output_type": "execute_result"
    }
   ],
   "source": [
    "sales_data.head()"
   ]
  },
  {
   "cell_type": "code",
   "execution_count": 11,
   "id": "4a7bbee4-dc4a-4a50-9cc4-cc844e03ad0f",
   "metadata": {},
   "outputs": [
    {
     "data": {
      "text/html": [
       "<div>\n",
       "<style scoped>\n",
       "    .dataframe tbody tr th:only-of-type {\n",
       "        vertical-align: middle;\n",
       "    }\n",
       "\n",
       "    .dataframe tbody tr th {\n",
       "        vertical-align: top;\n",
       "    }\n",
       "\n",
       "    .dataframe thead th {\n",
       "        text-align: right;\n",
       "    }\n",
       "</style>\n",
       "<table border=\"1\" class=\"dataframe\">\n",
       "  <thead>\n",
       "    <tr style=\"text-align: right;\">\n",
       "      <th></th>\n",
       "      <th>product_id</th>\n",
       "      <th>product_name</th>\n",
       "      <th>category</th>\n",
       "      <th>units_sold</th>\n",
       "      <th>sale_date</th>\n",
       "    </tr>\n",
       "  </thead>\n",
       "  <tbody>\n",
       "    <tr>\n",
       "      <th>15</th>\n",
       "      <td>16</td>\n",
       "      <td>Product 16</td>\n",
       "      <td>Electronics</td>\n",
       "      <td>21</td>\n",
       "      <td>2023-01-16</td>\n",
       "    </tr>\n",
       "    <tr>\n",
       "      <th>16</th>\n",
       "      <td>17</td>\n",
       "      <td>Product 17</td>\n",
       "      <td>Sports</td>\n",
       "      <td>21</td>\n",
       "      <td>2023-01-17</td>\n",
       "    </tr>\n",
       "    <tr>\n",
       "      <th>17</th>\n",
       "      <td>18</td>\n",
       "      <td>Product 18</td>\n",
       "      <td>Sports</td>\n",
       "      <td>13</td>\n",
       "      <td>2023-01-18</td>\n",
       "    </tr>\n",
       "    <tr>\n",
       "      <th>18</th>\n",
       "      <td>19</td>\n",
       "      <td>Product 19</td>\n",
       "      <td>Sports</td>\n",
       "      <td>18</td>\n",
       "      <td>2023-01-19</td>\n",
       "    </tr>\n",
       "    <tr>\n",
       "      <th>19</th>\n",
       "      <td>20</td>\n",
       "      <td>Product 20</td>\n",
       "      <td>Home</td>\n",
       "      <td>25</td>\n",
       "      <td>2023-01-20</td>\n",
       "    </tr>\n",
       "  </tbody>\n",
       "</table>\n",
       "</div>"
      ],
      "text/plain": [
       "    product_id product_name     category  units_sold  sale_date\n",
       "15          16   Product 16  Electronics          21 2023-01-16\n",
       "16          17   Product 17       Sports          21 2023-01-17\n",
       "17          18   Product 18       Sports          13 2023-01-18\n",
       "18          19   Product 19       Sports          18 2023-01-19\n",
       "19          20   Product 20         Home          25 2023-01-20"
      ]
     },
     "execution_count": 11,
     "metadata": {},
     "output_type": "execute_result"
    }
   ],
   "source": [
    "# Display dataset\n",
    "sales_data.tail()"
   ]
  },
  {
   "cell_type": "code",
   "execution_count": 13,
   "id": "f70a28d3",
   "metadata": {},
   "outputs": [
    {
     "name": "stdout",
     "output_type": "stream",
     "text": [
      "<class 'pandas.core.frame.DataFrame'>\n",
      "RangeIndex: 20 entries, 0 to 19\n",
      "Data columns (total 5 columns):\n",
      " #   Column        Non-Null Count  Dtype         \n",
      "---  ------        --------------  -----         \n",
      " 0   product_id    20 non-null     int64         \n",
      " 1   product_name  20 non-null     object        \n",
      " 2   category      20 non-null     object        \n",
      " 3   units_sold    20 non-null     int32         \n",
      " 4   sale_date     20 non-null     datetime64[ns]\n",
      "dtypes: datetime64[ns](1), int32(1), int64(1), object(2)\n",
      "memory usage: 852.0+ bytes\n"
     ]
    }
   ],
   "source": [
    "sales_data.info()"
   ]
  },
  {
   "cell_type": "code",
   "execution_count": 14,
   "id": "c89c5652",
   "metadata": {},
   "outputs": [
    {
     "data": {
      "text/plain": [
       "product_id      0\n",
       "product_name    0\n",
       "category        0\n",
       "units_sold      0\n",
       "sale_date       0\n",
       "dtype: int64"
      ]
     },
     "execution_count": 14,
     "metadata": {},
     "output_type": "execute_result"
    }
   ],
   "source": [
    "sales_data.isnull().sum()"
   ]
  },
  {
   "cell_type": "markdown",
   "id": "7c7f7b8b-cda0-4c03-8d64-8f2237bf0e79",
   "metadata": {},
   "source": [
    "# Descriptive Statistics\n",
    "Descriptive statistics help summarize the data:\n",
    "\n",
    "- Mean: average sales\n",
    "\n",
    "- Median: middle value\n",
    "\n",
    "- Mode: most frequent value\n",
    "\n",
    "- Variance/Std Dev: how spread out the data is\n",
    "\n",
    "We also calculate category-wise total, average, and standard deviation of units sold.\n",
    "\n"
   ]
  },
  {
   "cell_type": "code",
   "execution_count": 9,
   "id": "4e1660c6-e082-4816-bbbf-10c984682e07",
   "metadata": {},
   "outputs": [
    {
     "data": {
      "text/plain": [
       "count    20.000000\n",
       "mean     18.800000\n",
       "std       3.302312\n",
       "min      13.000000\n",
       "25%      17.000000\n",
       "50%      18.500000\n",
       "75%      21.000000\n",
       "max      25.000000\n",
       "Name: units_sold, dtype: float64"
      ]
     },
     "execution_count": 9,
     "metadata": {},
     "output_type": "execute_result"
    }
   ],
   "source": [
    "# Descriptive statistics\n",
    "descriptive_stats = sales_data['units_sold'].describe()\n",
    "descriptive_stats"
   ]
  },
  {
   "cell_type": "code",
   "execution_count": 7,
   "id": "bcac63f7-a548-4a69-8bc5-bee99a1d704a",
   "metadata": {},
   "outputs": [],
   "source": [
    "# Additional statistics\n",
    "mean_sales = sales_data['units_sold'].mean()\n",
    "median_sales = sales_data['units_sold'].median()\n",
    "mode_sales = sales_data['units_sold'].mode()[0]\n",
    "variance_sales = sales_data['units_sold'].var()\n",
    "std_deviation_sales = sales_data['units_sold'].std()"
   ]
  },
  {
   "cell_type": "code",
   "execution_count": 10,
   "id": "923e8c01-f438-4491-bb57-a8e46836d6de",
   "metadata": {},
   "outputs": [
    {
     "name": "stdout",
     "output_type": "stream",
     "text": [
      "mean_sales : 18.8\n",
      "median_sales : 18.5\n",
      "mode_sales : 17\n",
      "variance_sales : 10.90526315789474\n",
      "std_deviation_sales : 3.3023117899275864\n"
     ]
    }
   ],
   "source": [
    "print(\"mean_sales :\",mean_sales)\n",
    "print(\"median_sales :\",median_sales)\n",
    "print('mode_sales :',mode_sales)\n",
    "print(\"variance_sales :\",variance_sales)\n",
    "print(\"std_deviation_sales :\",std_deviation_sales)"
   ]
  },
  {
   "cell_type": "code",
   "execution_count": 8,
   "id": "4cb368de-c4fc-4e21-a92c-439a5f7e0fda",
   "metadata": {},
   "outputs": [
    {
     "data": {
      "text/html": [
       "<div>\n",
       "<style scoped>\n",
       "    .dataframe tbody tr th:only-of-type {\n",
       "        vertical-align: middle;\n",
       "    }\n",
       "\n",
       "    .dataframe tbody tr th {\n",
       "        vertical-align: top;\n",
       "    }\n",
       "\n",
       "    .dataframe thead th {\n",
       "        text-align: right;\n",
       "    }\n",
       "</style>\n",
       "<table border=\"1\" class=\"dataframe\">\n",
       "  <thead>\n",
       "    <tr style=\"text-align: right;\">\n",
       "      <th></th>\n",
       "      <th>Category</th>\n",
       "      <th>Total Units Sold</th>\n",
       "      <th>Average Units Sold</th>\n",
       "      <th>Std Dev of Units Sold</th>\n",
       "    </tr>\n",
       "  </thead>\n",
       "  <tbody>\n",
       "    <tr>\n",
       "      <th>0</th>\n",
       "      <td>Clothing</td>\n",
       "      <td>21</td>\n",
       "      <td>21.000000</td>\n",
       "      <td>NaN</td>\n",
       "    </tr>\n",
       "    <tr>\n",
       "      <th>1</th>\n",
       "      <td>Electronics</td>\n",
       "      <td>73</td>\n",
       "      <td>18.250000</td>\n",
       "      <td>2.217356</td>\n",
       "    </tr>\n",
       "    <tr>\n",
       "      <th>2</th>\n",
       "      <td>Home</td>\n",
       "      <td>181</td>\n",
       "      <td>20.111111</td>\n",
       "      <td>3.723051</td>\n",
       "    </tr>\n",
       "    <tr>\n",
       "      <th>3</th>\n",
       "      <td>Sports</td>\n",
       "      <td>101</td>\n",
       "      <td>16.833333</td>\n",
       "      <td>2.714160</td>\n",
       "    </tr>\n",
       "  </tbody>\n",
       "</table>\n",
       "</div>"
      ],
      "text/plain": [
       "      Category  Total Units Sold  Average Units Sold  Std Dev of Units Sold\n",
       "0     Clothing                21           21.000000                    NaN\n",
       "1  Electronics                73           18.250000               2.217356\n",
       "2         Home               181           20.111111               3.723051\n",
       "3       Sports               101           16.833333               2.714160"
      ]
     },
     "execution_count": 8,
     "metadata": {},
     "output_type": "execute_result"
    }
   ],
   "source": [
    "# Group-wise statistics\n",
    "category_stats = sales_data.groupby('category')['units_sold'].agg(['sum', 'mean', 'std']).reset_index()\n",
    "category_stats.columns = ['Category', 'Total Units Sold', 'Average Units Sold', 'Std Dev of Units Sold']\n",
    "category_stats"
   ]
  },
  {
   "cell_type": "markdown",
   "id": "eed2dd26-c7ea-435a-b156-ad3a5a6b4e2f",
   "metadata": {},
   "source": [
    "# Inferential Statistics\n",
    "A confidence interval gives a range in which the true mean is likely to lie.\n",
    "\n",
    "- A 95% CI means there's a 95% chance the true mean lies within this range.\n",
    "\n",
    "- A 99% CI is wider and more confident.\n",
    "\n",
    "We use the t-distribution because the sample size is small (n=20).\n",
    "\n",
    "\n",
    "## 95% Confidence Interval for Mean"
   ]
  },
  {
   "cell_type": "code",
   "execution_count": 12,
   "id": "940da762-9b59-4f0d-b53f-b134f755e0a2",
   "metadata": {},
   "outputs": [],
   "source": [
    "# 95% Confidence Interval\n",
    "confidence_level = 0.95\n",
    "degrees_freedom = len(sales_data['units_sold']) - 1\n",
    "sample_mean = mean_sales\n",
    "sample_standard_error = std_deviation_sales / np.sqrt(len(sales_data['units_sold']))"
   ]
  },
  {
   "cell_type": "code",
   "execution_count": 13,
   "id": "abc5f37a-91c6-4191-80ba-562209a430bb",
   "metadata": {},
   "outputs": [],
   "source": [
    "# t-score\n",
    "t_score = stats.t.ppf((1 + confidence_level) / 2, degrees_freedom)\n",
    "margin_of_error = t_score * sample_standard_error"
   ]
  },
  {
   "cell_type": "code",
   "execution_count": 14,
   "id": "023b6697-ac22-45a2-98df-1bff171eb19d",
   "metadata": {},
   "outputs": [
    {
     "data": {
      "text/plain": [
       "(np.float64(17.254470507823573), np.float64(20.34552949217643))"
      ]
     },
     "execution_count": 14,
     "metadata": {},
     "output_type": "execute_result"
    }
   ],
   "source": [
    "confidence_interval_95 = (sample_mean - margin_of_error, sample_mean + margin_of_error)\n",
    "confidence_interval_95"
   ]
  },
  {
   "cell_type": "markdown",
   "id": "711fa2df-d680-48dc-9ddf-e92ff33e5754",
   "metadata": {},
   "source": [
    "## 99% Confidence Interval for Mean"
   ]
  },
  {
   "cell_type": "code",
   "execution_count": 15,
   "id": "69b8e6e8-cf5c-4c95-ae06-28182d8a1b49",
   "metadata": {},
   "outputs": [],
   "source": [
    "# 99% Confidence Interval\n",
    "confidence_level = 0.99\n",
    "t_score = stats.t.ppf((1 + confidence_level) / 2, degrees_freedom)\n",
    "margin_of_error = t_score * sample_standard_error"
   ]
  },
  {
   "cell_type": "code",
   "execution_count": 16,
   "id": "3efbbb50-0e8f-4cc5-844a-8c174074cb61",
   "metadata": {},
   "outputs": [
    {
     "data": {
      "text/plain": [
       "(np.float64(16.687430485978535), np.float64(20.912569514021467))"
      ]
     },
     "execution_count": 16,
     "metadata": {},
     "output_type": "execute_result"
    }
   ],
   "source": [
    "confidence_interval_99 = (sample_mean - margin_of_error, sample_mean + margin_of_error)\n",
    "confidence_interval_99"
   ]
  },
  {
   "cell_type": "markdown",
   "id": "01360196-56aa-4042-a974-c4bc2c2c5c6d",
   "metadata": {},
   "source": [
    "# Hypothesis Testing – One Sample t-test\n",
    "- We test the null hypothesis (H₀):\n",
    "\n",
    "  - The mean units sold is 20.\n",
    "\n",
    "- The alternative hypothesis (H₁):\n",
    "\n",
    "  - The mean units sold is not 20.\n",
    "\n",
    "- We use a 1-sample t-test, and based on the p-value:\n",
    "\n",
    "  - If p < 0.05 → reject H₀ (significant difference)\n",
    "\n",
    "  - If p ≥ 0.05 → fail to reject H₀ (no significant difference)\n"
   ]
  },
  {
   "cell_type": "code",
   "execution_count": 17,
   "id": "58bd4d03-69c5-4539-bcfa-7a9172ce3631",
   "metadata": {},
   "outputs": [
    {
     "name": "stdout",
     "output_type": "stream",
     "text": [
      "T-statistic: -1.6250928099424466\n",
      "P-value: 0.12061572226781002\n",
      "Fail to reject the null hypothesis: Mean units sold is not significantly different from 20.\n"
     ]
    }
   ],
   "source": [
    "# Hypothesis Test (H0: mean = 20, H1: mean ≠ 20)\n",
    "t_statistic, p_value = stats.ttest_1samp(sales_data['units_sold'], 20)\n",
    "\n",
    "print(f\"T-statistic: {t_statistic}\")\n",
    "print(f\"P-value: {p_value}\")\n",
    "\n",
    "if p_value < 0.05:\n",
    "    print(\"Reject the null hypothesis: Mean units sold is significantly different from 20.\")\n",
    "else:\n",
    "    print(\"Fail to reject the null hypothesis: Mean units sold is not significantly different from 20.\")"
   ]
  },
  {
   "cell_type": "markdown",
   "id": "ca0325d6-cacd-4f46-8a10-ab761c74c65b",
   "metadata": {},
   "source": [
    "# Data Visualizations\n",
    "- Histogram shows the distribution and shape (e.g., skewness).\n",
    "\n",
    "- Boxplot helps detect outliers and compare sales spread across categories.\n",
    "\n",
    "- Bar plot shows which category sold the most.\n",
    "## Histogram with KDE"
   ]
  },
  {
   "cell_type": "code",
   "execution_count": 18,
   "id": "b2aa9ce7-51ee-4c2d-8ffd-c83bd3c35105",
   "metadata": {},
   "outputs": [
    {
     "data": {
      "image/png": "[encoded data removed]",
      "text/plain": [
       "<Figure size 1000x600 with 1 Axes>"
      ]
     },
     "metadata": {},
     "output_type": "display_data"
    }
   ],
   "source": [
    "plt.figure(figsize=(10, 6))\n",
    "sns.histplot(sales_data['units_sold'], bins=10, kde=True)\n",
    "plt.axvline(mean_sales, color='red', linestyle='--', label='Mean')\n",
    "plt.axvline(median_sales, color='blue', linestyle='--', label='Median')\n",
    "plt.axvline(mode_sales, color='green', linestyle='--', label='Mode')\n",
    "plt.title('Distribution of Units Sold')\n",
    "plt.xlabel('Units Sold')\n",
    "plt.ylabel('Frequency')\n",
    "plt.legend()\n",
    "plt.show()"
   ]
  },
  {
   "cell_type": "markdown",
   "id": "830bf060-4c95-4ca3-ae1d-722924e8124d",
   "metadata": {},
   "source": [
    "## Boxplot by Category\n"
   ]
  },
  {
   "cell_type": "code",
   "execution_count": 19,
   "id": "952329a0-fa0d-43d6-bb4b-1c1866f439fe",
   "metadata": {},
   "outputs": [
    {
     "data": {
      "image/png": "[encoded data removed]",
      "text/plain": [
       "<Figure size 1000x600 with 1 Axes>"
      ]
     },
     "metadata": {},
     "output_type": "display_data"
    }
   ],
   "source": [
    "plt.figure(figsize=(10, 6))\n",
    "sns.boxplot(x='category', y='units_sold', data=sales_data)\n",
    "plt.title('Boxplot of Units Sold by Category')\n",
    "plt.xlabel('Category')\n",
    "plt.ylabel('Units Sold')\n",
    "plt.show()"
   ]
  },
  {
   "cell_type": "markdown",
   "id": "dc1d461d-7c1e-4f8c-8bfa-b4f2e4978178",
   "metadata": {},
   "source": [
    "## Bar Plot: Total Units Sold per Category"
   ]
  },
  {
   "cell_type": "code",
   "execution_count": 20,
   "id": "5b6907ac-0329-4188-95d0-a55f16145429",
   "metadata": {},
   "outputs": [
    {
     "data": {
      "image/png": "[encoded data removed]",
      "text/plain": [
       "<Figure size 1000x600 with 1 Axes>"
      ]
     },
     "metadata": {},
     "output_type": "display_data"
    }
   ],
   "source": [
    "plt.figure(figsize=(10, 6))\n",
    "sns.barplot(x='Category', y='Total Units Sold', data=category_stats)\n",
    "plt.title('Total Units Sold by Category')\n",
    "plt.xlabel('Category')\n",
    "plt.ylabel('Total Units Sold')\n",
    "plt.show()"
   ]
  },
  {
   "cell_type": "markdown",
   "id": "bd31e3b6-ebd2-43b2-985e-f7ec8bc0f804",
   "metadata": {},
   "source": [
    "# Conclusion\n",
    "**Key Insights & Summary**\n",
    "\n",
    "- The **mean units sold** is approximately `X` units.\n",
    "- The **95% Confidence Interval** for the true mean is: `(X₁, X₂)`\n",
    "- The **p-value** from the t-test is `P`, so we:\n",
    "-  [Reject / Fail to Reject] the null hypothesis.\n",
    "- The **'Clothing'** category had the highest variability in sales.\n",
    "- Sales distribution shows [normal / skewed] pattern based on histogram and boxplot."
   ]
  },
  {
   "cell_type": "code",
   "execution_count": null,
   "id": "9dceb29c-f1da-4c58-b5dc-a71dd8322a57",
   "metadata": {},
   "outputs": [],
   "source": []
  }
 ],
 "metadata": {
  "kernelspec": {
   "display_name": "Python 3",
   "language": "python",
   "name": "python3"
  },
  "language_info": {
   "codemirror_mode": {
    "name": "ipython",
    "version": 3
   },
   "file_extension": ".py",
   "mimetype": "text/x-python",
   "name": "python",
   "nbconvert_exporter": "python",
   "pygments_lexer": "ipython3",
   "version": "3.13.3"
  }
 },
 "nbformat": 4,
 "nbformat_minor": 5
}
